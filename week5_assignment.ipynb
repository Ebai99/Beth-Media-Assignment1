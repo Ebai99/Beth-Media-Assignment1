{
 "cells": [
  {
   "cell_type": "markdown",
   "metadata": {},
   "source": [
    "# Error handling in python\n",
    "## Intermediate Level"
   ]
  },
  {
   "cell_type": "markdown",
   "metadata": {},
   "source": [
    "##### Write a function get_key_value(dictionary, key) that returns the value of a given key from a dictionary. Use KeyError handling to print a friendly message if the key does not exist."
   ]
  },
  {
   "cell_type": "code",
   "execution_count": null,
   "metadata": {},
   "outputs": [],
   "source": [
    "def get_key_value(dictionary, key):\n",
    "    try:\n",
    "        print(dictionary[key])\n",
    "    except KeyError:\n",
    "        print(f\"Sorry! '{key}' key not found!\")\n",
    "\n",
    "dict1 = {'USA' : 'Washington', 'India' : 'New Deli', 'China' : 'Beijing', 'Russia' : 'Moscow'}\n",
    "get_key_value(dict1, 'Cameroon')"
   ]
  },
  {
   "cell_type": "markdown",
   "metadata": {},
   "source": [
    "##### Create a function calculate_bmi(weight, height) that raises a custom exception InvalidHeightError if height is 0 or negative."
   ]
  },
  {
   "cell_type": "code",
   "execution_count": null,
   "metadata": {},
   "outputs": [],
   "source": [
    "def calculate_bmi(weight, height):\n",
    "    if height <= 0:\n",
    "        raise ValueError(\"InvalidHeightError\")\n",
    "    else:\n",
    "        return  weight/(height**2)\n",
    "\n",
    "calculate_bmi(50, 0)"
   ]
  },
  {
   "cell_type": "markdown",
   "metadata": {},
   "source": [
    "##### Use the raise keyword to force a TypeError if a function add_numbers(a, b) is called with non-integer arguments."
   ]
  },
  {
   "cell_type": "code",
   "execution_count": null,
   "metadata": {},
   "outputs": [],
   "source": [
    "def add_numbers(a, b):\n",
    "    if type(a) != int or type(b) != int:\n",
    "        raise TypeError(\"Both arguments have to be integers!\")\n",
    "    else:\n",
    "        return a + b\n",
    "\n",
    "add_numbers(9, 6)"
   ]
  },
  {
   "cell_type": "markdown",
   "metadata": {},
   "source": [
    "##### Create a function safe_division(a, b) that returns the result of a / b. Handle ZeroDivisionError with a custom message. Use the else clause to print \"Division successful!\" when no exception occurs. Return the result only if successful; otherwise, return None."
   ]
  },
  {
   "cell_type": "code",
   "execution_count": null,
   "metadata": {},
   "outputs": [],
   "source": [
    "def safe_division(a, b):\n",
    "    try:\n",
    "        result = a/b\n",
    "    except ZeroDivisionError:\n",
    "        print(\"You can not divide by zero!\")\n",
    "        return None\n",
    "    else:\n",
    "        print(\"Division successful\")\n",
    "        return result\n",
    "\n",
    "safe_division(-12, 9)"
   ]
  }
 ],
 "metadata": {
  "kernelspec": {
   "display_name": ".venv",
   "language": "python",
   "name": "python3"
  },
  "language_info": {
   "codemirror_mode": {
    "name": "ipython",
    "version": 3
   },
   "file_extension": ".py",
   "mimetype": "text/x-python",
   "name": "python",
   "nbconvert_exporter": "python",
   "pygments_lexer": "ipython3",
   "version": "3.13.1"
  }
 },
 "nbformat": 4,
 "nbformat_minor": 2
}
