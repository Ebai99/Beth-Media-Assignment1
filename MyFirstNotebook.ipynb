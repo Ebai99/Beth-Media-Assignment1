{
 "cells": [
  {
   "cell_type": "markdown",
   "metadata": {},
   "source": [
    "##### Write a program to count how many numbers between 1 and 1000 are divisible by both 7 and 11"
   ]
  },
  {
   "cell_type": "code",
   "execution_count": null,
   "metadata": {},
   "outputs": [],
   "source": [
    "count = 0\n",
    "for i in range(1, 1000):\n",
    "    if i % 7 == i % 11 == 0:\n",
    "        count += 1\n",
    "print(count)"
   ]
  },
  {
   "cell_type": "markdown",
   "metadata": {},
   "source": [
    "##### Write a program to check if a given number is an Armstrong number (e.g., 153 is an Armstrong number because 1^3+5^3+3^3=153)"
   ]
  },
  {
   "cell_type": "code",
   "execution_count": null,
   "metadata": {},
   "outputs": [],
   "source": [
    "num = input(\"Enter a positive integer to check if it is an Amstrong number:\\t\")\n",
    "k = len(num)\n",
    "result = 0\n",
    "for i in range(k):\n",
    "    result = int(num[i])**k + result\n",
    "print(result == int(num))"
   ]
  },
  {
   "cell_type": "markdown",
   "metadata": {},
   "source": [
    "##### Create a dictionary where the keys are numbers from 1 to 5, and the values are the squares of the keys"
   ]
  },
  {
   "cell_type": "code",
   "execution_count": null,
   "metadata": {},
   "outputs": [],
   "source": [
    "square_dict = {1:1, 2:4, 3:9, 4:16, 5:25}\n",
    "print(square_dict)"
   ]
  },
  {
   "cell_type": "markdown",
   "metadata": {},
   "source": [
    "##### Write a program to find all the vowels present in the sentence \"Python programming is fun\" using a set"
   ]
  },
  {
   "cell_type": "code",
   "execution_count": null,
   "metadata": {},
   "outputs": [],
   "source": [
    "sentence = \"Python programming is fun\"\n",
    "sentence = set(sentence)\n",
    "sentence_vowels = set()\n",
    "for lettre in sentence:\n",
    "    if lettre in {'a', 'e', 'i', 'o', 'u'}:\n",
    "        sentence_vowels.add(lettre)\n",
    "print(sentence_vowels)"
   ]
  },
  {
   "cell_type": "markdown",
   "metadata": {},
   "source": [
    "##### Create a program that removes the second occurrence of a value from a list. Example: Input: [1, 2, 3, 2, 4], Value: 2 Output: [1, 2, 3, 4]"
   ]
  },
  {
   "cell_type": "code",
   "execution_count": null,
   "metadata": {},
   "outputs": [],
   "source": [
    "num_of_elements = int(input(\"Enter the number of elements in your list:\\t\"))\n",
    "print(\"Enter your list with repeated values\")\n",
    "my_list = list()\n",
    "for i in range(num_of_elements):\n",
    "    my_list.append(input())\n",
    "print(my_list)\n",
    "my_new_list = list(set(my_list))\n",
    "print(\"The new list is:\", my_new_list)"
   ]
  },
  {
   "cell_type": "markdown",
   "metadata": {},
   "source": [
    "##### Write a program that takes two strings and checks if one string is a subsequence of the other. Example: \"abc\" is a subsequence of \"aabbcc\""
   ]
  },
  {
   "cell_type": "code",
   "execution_count": null,
   "metadata": {},
   "outputs": [],
   "source": [
    "str1 = input(\"Enter your first string:\\t\")\n",
    "str2 = input(\"Enter your second string:\\t\")\n",
    "count = 0\n",
    "if len(str1) > len(str2):\n",
    "    for element in str2:\n",
    "        if element in str1:\n",
    "            count += 1\n",
    "    if count == len(str2):\n",
    "        print(str2, \"is a subsequence of\", str1)\n",
    "    else:\n",
    "        print(str2, \"is not a subsequence of\", str1)\n",
    "else:\n",
    "    for element in str1:\n",
    "        if element in str2:\n",
    "            count += 1\n",
    "    if count == len(str1):\n",
    "        print(str1, \"is a subsequence of\", str2)\n",
    "    else:\n",
    "        print(str1, \"is not a subsequence of\", str2)"
   ]
  },
  {
   "cell_type": "markdown",
   "metadata": {},
   "source": [
    "##### Write a program to check if a list is sorted in either ascending or descending order and return True if sorted"
   ]
  },
  {
   "cell_type": "code",
   "execution_count": null,
   "metadata": {},
   "outputs": [],
   "source": [
    "num_of_elements = int(input(\"Enter the number of elements in your list:\\t\"))\n",
    "type_of_list = int(input(\"Enter 1 for an integer list or 2 for character list:\\t\"))\n",
    "my_list = list()\n",
    "if type_of_list == 1:\n",
    "    print(\"Enter your list with elements of the same datatype\")\n",
    "    for i in range(num_of_elements):\n",
    "        my_list.append(int(input()))\n",
    "    print(my_list)\n",
    "    print(sorted(my_list) == my_list or sorted(my_list, reverse=True) == my_list)\n",
    "else:\n",
    "    print(\"Enter your list with elements of the same datatype\")\n",
    "    for i in range(num_of_elements):\n",
    "        my_list.append(input())\n",
    "    print(my_list)\n",
    "    print(sorted(my_list) == my_list or sorted(my_list, reverse=True) == my_list)"
   ]
  },
  {
   "cell_type": "markdown",
   "metadata": {},
   "source": [
    "##### Create a program that takes two sets of strings and determines if the sets are disjoint (i.e., have no common elements)"
   ]
  },
  {
   "cell_type": "code",
   "execution_count": null,
   "metadata": {},
   "outputs": [],
   "source": [
    "set1 = set()\n",
    "set2 = set()\n",
    "num_of_items1 = int(input(\"Enter the number of items in first set:\\t\"))\n",
    "print(\"Enter the elements of the first set\")\n",
    "for i in range(num_of_items1):\n",
    "    set1.add(input())\n",
    "print(\"Set1 is:\", set1)\n",
    "num_of_items2 = int(input(\"Enter the number of items in second set:\\t\"))\n",
    "print(\"Enter the elements of the first set\")\n",
    "for i in range(num_of_items2):\n",
    "    set2.add(input())\n",
    "print(\"Set2 is:\", set2)\n",
    "if set1.intersection(set2) == set():\n",
    "    print(\"Set1 and Set2 have no common elements.\")\n",
    "else:\n",
    "    print(\"Set1 and Set2 are not disjoint.\\nTheir common elements are:\", set1.intersection(set2))"
   ]
  }
 ],
 "metadata": {
  "kernelspec": {
   "display_name": "base",
   "language": "python",
   "name": "python3"
  },
  "language_info": {
   "codemirror_mode": {
    "name": "ipython",
    "version": 3
   },
   "file_extension": ".py",
   "mimetype": "text/x-python",
   "name": "python",
   "nbconvert_exporter": "python",
   "pygments_lexer": "ipython3",
   "version": "3.12.7"
  }
 },
 "nbformat": 4,
 "nbformat_minor": 2
}
