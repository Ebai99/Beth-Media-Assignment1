{
 "cells": [
  {
   "cell_type": "markdown",
   "metadata": {},
   "source": [
    "##### Write a program to count how many numbers between 1 and 1000 are divisible by both 7 and 11"
   ]
  },
  {
   "cell_type": "code",
   "execution_count": 2,
   "metadata": {},
   "outputs": [
    {
     "name": "stdout",
     "output_type": "stream",
     "text": [
      "12\n"
     ]
    }
   ],
   "source": [
    "count = 0\n",
    "for i in range(1, 1001):\n",
    "    if i % 7 == 0 and i % 11 == 0:\n",
    "        count += 1\n",
    "print(count)"
   ]
  },
  {
   "cell_type": "markdown",
   "metadata": {},
   "source": [
    "##### Write a program to check if a given number is an Armstrong number (e.g., 153 is an Armstrong number because 1^3+5^3+3^3=153)"
   ]
  },
  {
   "cell_type": "code",
   "execution_count": 5,
   "metadata": {},
   "outputs": [
    {
     "name": "stdout",
     "output_type": "stream",
     "text": [
      "454 is not an Amstrong number\n"
     ]
    }
   ],
   "source": [
    "num = input(\"Enter a positive integer to check if it is an Amstrong number:\\t\")\n",
    "k = len(num)\n",
    "result = 0\n",
    "for i in range(k):\n",
    "    result += int(num[i])**k\n",
    "if result == int(num):\n",
    "    print(num, \"is an Amstrong number\")\n",
    "else:\n",
    "    print(num, \"is not an Amstrong number\")"
   ]
  },
  {
   "cell_type": "markdown",
   "metadata": {},
   "source": [
    "##### Create a dictionary where the keys are numbers from 1 to 5, and the values are the squares of the keys"
   ]
  },
  {
   "cell_type": "code",
   "execution_count": 8,
   "metadata": {},
   "outputs": [
    {
     "name": "stdout",
     "output_type": "stream",
     "text": [
      "{1: 1, 2: 4, 3: 9, 4: 16, 5: 25}\n"
     ]
    }
   ],
   "source": [
    "square_dict = {x : x**2 for x in range(1, 6)}\n",
    "print(square_dict)"
   ]
  },
  {
   "cell_type": "markdown",
   "metadata": {},
   "source": [
    "##### Write a program to find all the vowels present in the sentence \"Python programming is fun\" using a set"
   ]
  },
  {
   "cell_type": "code",
   "execution_count": 11,
   "metadata": {},
   "outputs": [
    {
     "name": "stdout",
     "output_type": "stream",
     "text": [
      "{'i', 'u', 'a', 'o'}\n"
     ]
    }
   ],
   "source": [
    "sentence = \"Python programming is fun\"\n",
    "sentence = set(sentence)\n",
    "sentence_vowels = {'a', 'e', 'i', 'o', 'u'}\n",
    "\n",
    "print(sentence & sentence_vowels)"
   ]
  },
  {
   "cell_type": "markdown",
   "metadata": {},
   "source": [
    "##### Create a program that removes the second occurrence of a value from a list. Example: Input: [1, 2, 3, 2, 4], Value: 2 Output: [1, 2, 3, 4]"
   ]
  },
  {
   "cell_type": "code",
   "execution_count": null,
   "metadata": {},
   "outputs": [],
   "source": [
    "num_of_elements = int(input(\"Enter the number of elements in your list:\\t\"))\n",
    "print(\"Enter your list with repeated values\")\n",
    "my_list = [input() for _ in range(num_of_elements)]\n",
    "\n",
    "value_to_remove = input(\"Enter the value whose second occurrence should be removed:\\t\")\n",
    "\n",
    "count = 0\n",
    "new_list = []\n",
    "\n",
    "for num in my_list:\n",
    "    if num == value_to_remove:\n",
    "        count += 1\n",
    "        if count == 2:\n",
    "            continue  # Skip the second occurrence\n",
    "    new_list.append(num)\n",
    "\n",
    "print(\"The new list is:\", new_list)"
   ]
  },
  {
   "cell_type": "markdown",
   "metadata": {},
   "source": [
    "##### Write a program that takes two strings and checks if one string is a subsequence of the other. Example: \"abc\" is a subsequence of \"aabbcc\""
   ]
  },
  {
   "cell_type": "code",
   "execution_count": null,
   "metadata": {},
   "outputs": [],
   "source": [
    "str1 = input(\"Enter your first string:\\t\")\n",
    "str2 = input(\"Enter your second string:\\t\")\n",
    "count = 0\n",
    "i = 0\n",
    "if len(str1) < len(str2):\n",
    "    str1, str2 = str2, str1 # I always want the second string to be verified if it's a subsequence or not.\n",
    "for element in str2:\n",
    "    while i < len(str1):\n",
    "        if element == str1[i]:\n",
    "            count += 1\n",
    "            i += 1\n",
    "            break\n",
    "        i += 1\n",
    "if count == len(str2):\n",
    "    print(str2, \"is a subsequence of\", str1)\n",
    "else:\n",
    "    print(str2, \"is not a subsequence of\", str1)    "
   ]
  },
  {
   "cell_type": "markdown",
   "metadata": {},
   "source": [
    "##### Write a program to check if a list is sorted in either ascending or descending order and return True if sorted"
   ]
  },
  {
   "cell_type": "code",
   "execution_count": null,
   "metadata": {},
   "outputs": [],
   "source": [
    "num_of_elements = int(input(\"Enter the number of elements in your list:\\t\"))\n",
    "data_type = int(input(\"Enter 1 for an integer list or 2 for a character list:\\t\"))\n",
    "\n",
    "print(\"Enter your list with elements of the same datatype:\")\n",
    "my_list = [input() for _ in range(num_of_elements)]\n",
    "\n",
    "# Convert to integers if the user selected an integer list\n",
    "if data_type == 1:\n",
    "    my_list = list(map(int, my_list))\n",
    "\n",
    "print(\"Your list:\", my_list)\n",
    "is_sorted = my_list == sorted(my_list) or my_list == sorted(my_list, reverse=True)\n",
    "print(\"Is the list sorted?\", is_sorted)"
   ]
  },
  {
   "cell_type": "markdown",
   "metadata": {},
   "source": [
    "##### Create a program that takes two sets of strings and determines if the sets are disjoint (i.e., have no common elements)"
   ]
  },
  {
   "cell_type": "code",
   "execution_count": null,
   "metadata": {},
   "outputs": [],
   "source": [
    "set1 = set()\n",
    "set2 = set()\n",
    "num_of_items1 = int(input(\"Enter the number of items in first set:\\t\"))\n",
    "print(\"Enter the elements of the first set\")\n",
    "for i in range(num_of_items1):\n",
    "    set1.add(input())\n",
    "print(\"Set1 is:\", set1)\n",
    "num_of_items2 = int(input(\"Enter the number of items in second set:\\t\"))\n",
    "print(\"Enter the elements of the second set\")\n",
    "for i in range(num_of_items2):\n",
    "    set2.add(input())\n",
    "print(\"Set2 is:\", set2)\n",
    "if set1.isdisjoint(set2):\n",
    "    print(\"Set1 and Set2 have no common elements.\")\n",
    "else:\n",
    "    print(\"Set1 and Set2 are not disjoint.\\nTheir common elements are:\", set1.intersection(set2))"
   ]
  }
 ],
 "metadata": {
  "kernelspec": {
   "display_name": ".venv",
   "language": "python",
   "name": "python3"
  },
  "language_info": {
   "codemirror_mode": {
    "name": "ipython",
    "version": 3
   },
   "file_extension": ".py",
   "mimetype": "text/x-python",
   "name": "python",
   "nbconvert_exporter": "python",
   "pygments_lexer": "ipython3",
   "version": "3.13.1"
  }
 },
 "nbformat": 4,
 "nbformat_minor": 2
}
