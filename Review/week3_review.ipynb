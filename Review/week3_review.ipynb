{
 "cells": [
  {
   "cell_type": "markdown",
   "metadata": {},
   "source": [
    "# Intermediate Level"
   ]
  },
  {
   "cell_type": "markdown",
   "metadata": {},
   "source": [
    "### Math quiz\n",
    "##### Write a function math_quiz(num1, num2) that accepts two numbers and returns the sum, difference, product, and quotient of these two numbers in a tuple. For example: (sum, difference, product, quotient). Call the function with 5 and 3."
   ]
  },
  {
   "cell_type": "code",
   "execution_count": null,
   "metadata": {},
   "outputs": [
    {
     "name": "stdout",
     "output_type": "stream",
     "text": [
      "The sum, difference, product, and qoutient of 8 and 5 is: (13, 3, 40, 1.6)\n"
     ]
    }
   ],
   "source": [
    "def math_quiz(num1, num2):\n",
    "    print(f\"The sum, difference, product, and qoutient of {num1} and {num2} is: {(num1 + num2, num1 - num2, num1 * num2, num1/num2)}\")\n",
    "\n",
    "math_quiz(8, 5)"
   ]
  },
  {
   "cell_type": "markdown",
   "metadata": {},
   "source": [
    "## Review \n",
    "Your function is almost perfect! You’re correctly calculating the sum, difference, product, and quotient, but it should return the results as a tuple rather than just printing them. This will allow the caller to work with the results as needed, rather than just displaying them.\n",
    "\n"
   ]
  },
  {
   "cell_type": "code",
   "execution_count": 2,
   "metadata": {},
   "outputs": [
    {
     "name": "stdout",
     "output_type": "stream",
     "text": [
      "The sum, difference, product, and quotient of 8 and 5 is: (13, 3, 40, 1.6)\n"
     ]
    }
   ],
   "source": [
    "## Improved code\n",
    "\n",
    "def math_quiz(num1, num2):\n",
    "    # Return the results as a tuple\n",
    "    return (num1 + num2, num1 - num2, num1 * num2, num1 / num2)\n",
    "\n",
    "# Call the function with 8 and 5\n",
    "result = math_quiz(8, 5)\n",
    "\n",
    "# Display the results\n",
    "print(f\"The sum, difference, product, and quotient of 8 and 5 is: {result}\")\n"
   ]
  },
  {
   "cell_type": "code",
   "execution_count": null,
   "metadata": {},
   "outputs": [],
   "source": []
  },
  {
   "cell_type": "markdown",
   "metadata": {},
   "source": [
    "### Magic box\n",
    "##### Create a function magic_box(item1, item2) that returns a sentence like: \"You have placed _item1_ and _item2_ in the magic box!\". Make the items \"a book\" and \"a pen\". Test the function with different items."
   ]
  },
  {
   "cell_type": "code",
   "execution_count": null,
   "metadata": {},
   "outputs": [
    {
     "name": "stdout",
     "output_type": "stream",
     "text": [
      "You have placed a book and a pen in the box!\n",
      "You have placed two swords and a vest in the box!\n"
     ]
    }
   ],
   "source": [
    "def magic_box(item1, item2):\n",
    "    print(f\"You have placed {item1} and {item2} in the box!\")\n",
    "\n",
    "item1, item2 = \"a book\", \"a pen\"\n",
    "magic_box(item1, item2)\n",
    "item3, item4 = \"two swords\", \"a vest\"\n",
    "magic_box(item3, item4)"
   ]
  },
  {
   "cell_type": "markdown",
   "metadata": {},
   "source": [
    "## Review \n",
    "\n",
    "Your code is great! You're correctly defining the function and passing different items to test it.\n",
    "\n",
    "However, you might want to return the result instead of printing it, especially if you want to reuse or store the sentence later. Here's an updated version of your function:"
   ]
  },
  {
   "cell_type": "code",
   "execution_count": null,
   "metadata": {},
   "outputs": [],
   "source": []
  },
  {
   "cell_type": "markdown",
   "metadata": {},
   "source": [
    "### Superhero Power Check\n",
    "##### Write a function can_fly(power_level) that takes the power level of a superhero as input and returns \"You can fly!\" if the power level is greater than 100, or \"Try again, keep training!\" if the power level is 100 or less."
   ]
  },
  {
   "cell_type": "code",
   "execution_count": null,
   "metadata": {},
   "outputs": [
    {
     "name": "stdout",
     "output_type": "stream",
     "text": [
      "You can fly!\n"
     ]
    }
   ],
   "source": [
    "def can_fly(power_level):\n",
    "    if power_level > 100:\n",
    "        print(\"You can fly!\")\n",
    "    else:\n",
    "        print(\"Try again, keep training!\")\n",
    "    \n",
    "power_level = 110\n",
    "can_fly(power_level)"
   ]
  },
  {
   "cell_type": "markdown",
   "metadata": {},
   "source": [
    "## Review\n",
    "\n",
    "Your function works as expected! However, if you'd like to make it more flexible or reusable, you could return the string instead of printing it. That way, you can store or display the result as needed. "
   ]
  },
  {
   "cell_type": "code",
   "execution_count": null,
   "metadata": {},
   "outputs": [],
   "source": []
  },
  {
   "cell_type": "markdown",
   "metadata": {},
   "source": [
    "### Shape area calculator\n",
    "##### Create a function calculate_area(shape, dimension1, dimension2=0) that calculates the area of a rectangle (length × width) or square (side × side). The second dimension should default to 0 for squares. Test your function with both shapes."
   ]
  },
  {
   "cell_type": "code",
   "execution_count": 3,
   "metadata": {},
   "outputs": [
    {
     "name": "stdin",
     "output_type": "stream",
     "text": [
      "Enter the shape of your figure(either square or rectangle):\t square\n",
      "Enter the side of your square:\t 5\n"
     ]
    },
    {
     "name": "stdout",
     "output_type": "stream",
     "text": [
      "The area of the square(5 x 5) is 25\n"
     ]
    }
   ],
   "source": [
    "def calculate_area(shape, dimenson1, dimension2):\n",
    "    if dimension2 == 0:\n",
    "        area = dimenson1 ** 2\n",
    "        print(f\"The area of the {shape}({dimension1} x {dimension1}) is {area}\")\n",
    "    else:\n",
    "        area = dimenson1 * dimension2\n",
    "        print(f\"The area of the {shape}({dimension1} x {dimension2}) is {area}\")\n",
    "\n",
    "shape = input(\"Enter the shape of your figure(either square or rectangle):\\t\")\n",
    "shape = shape.lower()\n",
    "while shape != \"square\" and shape != \"rectangle\":\n",
    "    shape = input(\"Enter the shape of your figure(either square or rectangle):\\t\")\n",
    "    shape = shape.lower()\n",
    "if shape == \"square\":\n",
    "    dimension1 = int(input(f\"Enter the side of your {shape}:\\t\"))\n",
    "    dimension2 = 0\n",
    "else:\n",
    "    dimension1 = int(input(f\"Enter the lenghth of your {shape}:\\t\"))\n",
    "    dimension2 = int(input(f\"Enter the width of your {shape}:\\t\"))\n",
    "calculate_area(shape, dimension1, dimension2)"
   ]
  },
  {
   "cell_type": "markdown",
   "metadata": {},
   "source": [
    "## Review \n",
    "Your function is almost there! There are a couple of small tweaks to make it work perfectly:\n",
    "\n",
    "In the function definition, you should set dimension2=0 as the default for squares in case no second dimension is provided.\n",
    "There’s a small typo in the function parameter name: dimenson1 should be dimension1."
   ]
  },
  {
   "cell_type": "code",
   "execution_count": null,
   "metadata": {},
   "outputs": [],
   "source": [
    "## improved code\n",
    "def calculate_area(shape, dimension1, dimension2=0):\n",
    "    if dimension2 == 0:  # For square\n",
    "        area = dimension1 ** 2\n",
    "        print(f\"The area of the {shape} ({dimension1} x {dimension1}) is {area}\")\n",
    "    else:  # For rectangle\n",
    "        area = dimension1 * dimension2\n",
    "        print(f\"The area of the {shape} ({dimension1} x {dimension2}) is {area}\")\n",
    "\n",
    "shape = input(\"Enter the shape of your figure (either square or rectangle):\\t\")\n",
    "shape = shape.lower()\n",
    "\n",
    "while shape != \"square\" and shape != \"rectangle\":\n",
    "    shape = input(\"Invalid input! Enter the shape of your figure (either square or rectangle):\\t\")\n",
    "    shape = shape.lower()\n",
    "\n",
    "if shape == \"square\":\n",
    "    dimension1 = int(input(f\"Enter the side of your {shape}:\\t\"))\n",
    "    dimension2 = 0  # No second dimension for square\n",
    "else:\n",
    "    dimension1 = int(input(f\"Enter the length of your {shape}:\\t\"))\n",
    "    dimension2 = int(input(f\"Enter the width of your {shape}:\\t\"))\n",
    "\n",
    "calculate_area(shape, dimension1, dimension2)\n"
   ]
  },
  {
   "cell_type": "code",
   "execution_count": null,
   "metadata": {},
   "outputs": [],
   "source": []
  },
  {
   "cell_type": "markdown",
   "metadata": {},
   "source": [
    "### Discount finder\n",
    "##### Write a function calculate_discount(price, discount_percentage) that takes the price of an item and a discount percentage and returns the price after discount. For example, a price of 100 with a discount of 20% should return 80."
   ]
  },
  {
   "cell_type": "code",
   "execution_count": 4,
   "metadata": {},
   "outputs": [
    {
     "data": {
      "text/plain": [
       "1050.0"
      ]
     },
     "execution_count": 4,
     "metadata": {},
     "output_type": "execute_result"
    }
   ],
   "source": [
    "def calculate_discount(price, discount_percentage):\n",
    "    return price - (price * discount_percentage/100)\n",
    "\n",
    "calculate_discount(1500, 30)"
   ]
  },
  {
   "cell_type": "markdown",
   "metadata": {},
   "source": [
    "## Review\n",
    "\n",
    "Your function looks great! It correctly calculates the price after applying a discount."
   ]
  },
  {
   "cell_type": "code",
   "execution_count": null,
   "metadata": {},
   "outputs": [],
   "source": []
  },
  {
   "cell_type": "markdown",
   "metadata": {},
   "source": [
    "## Advance Level"
   ]
  },
  {
   "cell_type": "markdown",
   "metadata": {},
   "source": [
    "### Palindrome Checker\n",
    "##### Write a function is_palindrome(word) that takes a string and checks if it is a palindrome. If it is, return \"It’s a palindrome!\"; otherwise, return \"Not a palindrome!\". Try it with words like \"level\" and \"hello\""
   ]
  },
  {
   "cell_type": "code",
   "execution_count": null,
   "metadata": {},
   "outputs": [],
   "source": [
    "def is_palindrome(word):\n",
    "    word = word.lower()\n",
    "    if word == word[::-1]:\n",
    "        print(\"It's a palindrome!\")\n",
    "    else:\n",
    "        print(\"Not a palindrome!\")\n",
    "\n",
    "is_palindrome(\"Madam\")"
   ]
  },
  {
   "cell_type": "markdown",
   "metadata": {},
   "source": [
    "## Review\n",
    "\n",
    "Your function is nearly perfect! It correctly checks if a word is a palindrome by comparing the original word with its reverse (word[::-1]). However, instead of printing the result, we can return the result so that it's more reusable, and we can easily store or display it outside the function."
   ]
  },
  {
   "cell_type": "code",
   "execution_count": null,
   "metadata": {},
   "outputs": [],
   "source": []
  },
  {
   "cell_type": "markdown",
   "metadata": {},
   "source": [
    "### Mystery calculator\n",
    "##### Create a function mystery_calculation(a, b, c) that accepts three numbers and returns the result of the following formula: ((a + b) * c) / 2. Call the function with 5, 7, and 10."
   ]
  },
  {
   "cell_type": "code",
   "execution_count": 5,
   "metadata": {},
   "outputs": [
    {
     "data": {
      "text/plain": [
       "60.0"
      ]
     },
     "execution_count": 5,
     "metadata": {},
     "output_type": "execute_result"
    }
   ],
   "source": [
    "def mystery_calculation(a, b, c):\n",
    "    return ((a + b) * c)/2\n",
    "\n",
    "mystery_calculation(5, 7, 10)"
   ]
  },
  {
   "cell_type": "markdown",
   "metadata": {},
   "source": [
    "### Review \n",
    "\n",
    "Your function is correct! It computes the result of the formula ((a + b) * c) / 2 as expected"
   ]
  },
  {
   "cell_type": "code",
   "execution_count": null,
   "metadata": {},
   "outputs": [],
   "source": []
  },
  {
   "cell_type": "markdown",
   "metadata": {},
   "source": [
    "### Fibonacci sequence generator\n",
    "##### Write a function generate_fibonacci(n) that returns the first n numbers of the Fibonacci sequence. For example, for n = 5, the output should be [0, 1, 1, 2, 3]."
   ]
  },
  {
   "cell_type": "code",
   "execution_count": 6,
   "metadata": {},
   "outputs": [
    {
     "data": {
      "text/plain": [
       "[0, 1]"
      ]
     },
     "execution_count": 6,
     "metadata": {},
     "output_type": "execute_result"
    }
   ],
   "source": [
    "def generate_fibonacci(n):\n",
    "    i, j = 0, 1\n",
    "    fib = []\n",
    "    for k in range(1, n+1):\n",
    "        if k == 1:\n",
    "            fib.append(i)\n",
    "        elif k == 2:\n",
    "            fib.append(j)\n",
    "        else:\n",
    "            fib.append(i+j)\n",
    "            i, j = j, i+j\n",
    "    return fib\n",
    "\n",
    "generate_fibonacci(2)"
   ]
  },
  {
   "cell_type": "markdown",
   "metadata": {},
   "source": [
    "## Review\n",
    "\n",
    "Your function is correct!  "
   ]
  },
  {
   "cell_type": "code",
   "execution_count": null,
   "metadata": {},
   "outputs": [],
   "source": []
  },
  {
   "cell_type": "markdown",
   "metadata": {},
   "source": [
    "### Word frequency counter\n",
    "##### Create a function count_word_frequency(text, word) that takes a string and a word, then counts how many times the word appears in the string. Call it with the sentence _\"Python is fun, Python is powerful\"_ and the word _\"Python\"_."
   ]
  },
  {
   "cell_type": "code",
   "execution_count": 9,
   "metadata": {},
   "outputs": [
    {
     "data": {
      "text/plain": [
       "2"
      ]
     },
     "execution_count": 9,
     "metadata": {},
     "output_type": "execute_result"
    }
   ],
   "source": [
    "def count_word_frequency(text, word):\n",
    "    import re\n",
    "    text = text.lower()\n",
    "    text = re.sub(r'[^\\w\\s]', '', text) # replaces all puctuations and special characters(except for whitespace) with an empty string.\n",
    "    text_list = text.split() # splits our text word by word, and puts the words in a list\n",
    "    word = word.lower()\n",
    "    return text_list.count(word)\n",
    "\n",
    "text = \"Python is fun, Python is powerful\"\n",
    "word = \"Python\"\n",
    "count_word_frequency(text, word)"
   ]
  },
  {
   "cell_type": "markdown",
   "metadata": {},
   "source": [
    "## Review\n",
    "\n",
    "Your code is great for counting word frequency! It handles punctuation removal, converts the text to lowercase for case-insensitivity, and splits the text into words. The count() function is also correctly used to count the occurrences of the word."
   ]
  },
  {
   "cell_type": "code",
   "execution_count": null,
   "metadata": {},
   "outputs": [],
   "source": []
  },
  {
   "cell_type": "markdown",
   "metadata": {},
   "source": [
    "### Mystery number finder\n",
    "##### Write a function find_mystery_number(numbers) that accepts a list of numbers and returns the largest even number in the list. If there are no even numbers, return \"No even numbers found!\". Test the function with the list [3, 5, 7, 8, 12, 14]."
   ]
  },
  {
   "cell_type": "code",
   "execution_count": 10,
   "metadata": {},
   "outputs": [
    {
     "name": "stdout",
     "output_type": "stream",
     "text": [
      "No even numbers found!\n"
     ]
    }
   ],
   "source": [
    "def find_mystery_number(numbers):\n",
    "    largest_even_num = 0\n",
    "    for num in numbers:\n",
    "        if num % 2 == 0 and num > largest_even_num:\n",
    "            largest_even_num = num\n",
    "    if largest_even_num == 0:\n",
    "        print(\"No even numbers found!\")\n",
    "    else:\n",
    "        return largest_even_num\n",
    "\n",
    "find_mystery_number([3, 5, 7, 0])"
   ]
  },
  {
   "cell_type": "markdown",
   "metadata": {},
   "source": [
    "## Review\n",
    "\n",
    "Your code works fine, Instead of initializing largest_even_num to 0, it is better to initialize it to None. This makes it clear that no even numbers have been found yet. None is not a valid number, and therefore it can't be confused with an actual even number (like 0)"
   ]
  },
  {
   "cell_type": "code",
   "execution_count": 11,
   "metadata": {},
   "outputs": [
    {
     "data": {
      "text/plain": [
       "0"
      ]
     },
     "execution_count": 11,
     "metadata": {},
     "output_type": "execute_result"
    }
   ],
   "source": [
    "## improved code \n",
    "def find_mystery_number(numbers):\n",
    "    largest_even_num = None  # Start with None, not 0, to distinguish \"no even numbers\" from a valid 0\n",
    "    for num in numbers:\n",
    "        if num % 2 == 0 and (largest_even_num is None or num > largest_even_num):\n",
    "            largest_even_num = num\n",
    "    if largest_even_num is None:  # If no even number was found, return the message\n",
    "        print(\"No even numbers found!\")\n",
    "    else:\n",
    "        return largest_even_num\n",
    "        \n",
    "find_mystery_number([3, 5, 7, 0])"
   ]
  },
  {
   "cell_type": "code",
   "execution_count": null,
   "metadata": {},
   "outputs": [],
   "source": []
  }
 ],
 "metadata": {
  "kernelspec": {
   "display_name": "Python 3 (ipykernel)",
   "language": "python",
   "name": "python3"
  },
  "language_info": {
   "codemirror_mode": {
    "name": "ipython",
    "version": 3
   },
   "file_extension": ".py",
   "mimetype": "text/x-python",
   "name": "python",
   "nbconvert_exporter": "python",
   "pygments_lexer": "ipython3",
   "version": "3.12.7"
  }
 },
 "nbformat": 4,
 "nbformat_minor": 4
}
