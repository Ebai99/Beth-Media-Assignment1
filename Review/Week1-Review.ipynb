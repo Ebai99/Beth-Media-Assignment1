{
 "cells": [
  {
   "cell_type": "markdown",
   "metadata": {},
   "source": [
    "##### Write a program to count how many numbers between 1 and 1000 are divisible by both 7 and 11"
   ]
  },
  {
   "cell_type": "code",
   "execution_count": 1,
   "metadata": {},
   "outputs": [
    {
     "name": "stdout",
     "output_type": "stream",
     "text": [
      "12\n"
     ]
    }
   ],
   "source": [
    "count = 0\n",
    "for i in range(1, 1001):\n",
    "    if i % 7 == i % 11 == 0:\n",
    "        count += 1\n",
    "print(count)"
   ]
  },
  {
   "cell_type": "markdown",
   "metadata": {},
   "source": [
    "## Review\n",
    "### Your condition if i % 7 == i % 11 == 0: is incorrect. It should be if i % 7 == 0 and i % 11 == 0: to check divisibility by both 7 and 11.\n"
   ]
  },
  {
   "cell_type": "code",
   "execution_count": null,
   "metadata": {},
   "outputs": [],
   "source": []
  },
  {
   "cell_type": "markdown",
   "metadata": {},
   "source": [
    "##### Write a program to check if a given number is an Armstrong number (e.g., 153 is an Armstrong number because 1^3+5^3+3^3=153)"
   ]
  },
  {
   "cell_type": "code",
   "execution_count": 3,
   "metadata": {},
   "outputs": [
    {
     "name": "stdin",
     "output_type": "stream",
     "text": [
      "Enter a positive integer to check if it is an Amstrong number:\t 153\n"
     ]
    },
    {
     "name": "stdout",
     "output_type": "stream",
     "text": [
      "True\n"
     ]
    }
   ],
   "source": [
    "num = input(\"Enter a positive integer to check if it is an Amstrong number:\\t\")\n",
    "k = len(num)\n",
    "result = 0\n",
    "for i in range(k):\n",
    "    result = int(num[i])**k + result\n",
    "print(result == int(num))"
   ]
  },
  {
   "cell_type": "markdown",
   "metadata": {},
   "source": [
    "## Review\n",
    "### Your code logic is correct, but the result = int(num[i])**k + result should be written as result += int(num[i])**k for better readability. Also, you should provide a clear output message for the user.\n"
   ]
  },
  {
   "cell_type": "code",
   "execution_count": null,
   "metadata": {},
   "outputs": [],
   "source": []
  },
  {
   "cell_type": "markdown",
   "metadata": {},
   "source": [
    "##### Create a dictionary where the keys are numbers from 1 to 5, and the values are the squares of the keys"
   ]
  },
  {
   "cell_type": "code",
   "execution_count": 4,
   "metadata": {},
   "outputs": [
    {
     "name": "stdout",
     "output_type": "stream",
     "text": [
      "{1: 1, 2: 4, 3: 9, 4: 16, 5: 25}\n"
     ]
    }
   ],
   "source": [
    "square_dict = {1:1, 2:4, 3:9, 4:16, 5:25}\n",
    "print(square_dict)"
   ]
  },
  {
   "cell_type": "markdown",
   "metadata": {},
   "source": [
    "## Review\n",
    "\n",
    "### Your dictionary is correct, but it can be generated dynamically using dictionary comprehension for better scalability and readability."
   ]
  },
  {
   "cell_type": "code",
   "execution_count": null,
   "metadata": {},
   "outputs": [],
   "source": []
  },
  {
   "cell_type": "markdown",
   "metadata": {},
   "source": [
    "##### Write a program to find all the vowels present in the sentence \"Python programming is fun\" using a set"
   ]
  },
  {
   "cell_type": "code",
   "execution_count": 5,
   "metadata": {},
   "outputs": [
    {
     "name": "stdout",
     "output_type": "stream",
     "text": [
      "{'a', 'i', 'u', 'o'}\n"
     ]
    }
   ],
   "source": [
    "sentence = \"Python programming is fun\"\n",
    "sentence = set(sentence)\n",
    "sentence_vowels = set()\n",
    "for lettre in sentence:\n",
    "    if lettre in {'a', 'e', 'i', 'o', 'u'}:\n",
    "        sentence_vowels.add(lettre)\n",
    "print(sentence_vowels)"
   ]
  },
  {
   "cell_type": "markdown",
   "metadata": {},
   "source": [
    "## Review \n",
    "### Your code is correct, but you can improve it by:\n",
    "\n",
    "Using a set intersection (&) instead of looping manually for better readability.\n",
    "\n",
    "Using a more descriptive variable name (letter instead of lettre)."
   ]
  },
  {
   "cell_type": "code",
   "execution_count": null,
   "metadata": {},
   "outputs": [],
   "source": []
  },
  {
   "cell_type": "markdown",
   "metadata": {},
   "source": [
    "##### Create a program that removes the second occurrence of a value from a list. Example: Input: [1, 2, 3, 2, 4], Value: 2 Output: [1, 2, 3, 4]"
   ]
  },
  {
   "cell_type": "code",
   "execution_count": 7,
   "metadata": {},
   "outputs": [
    {
     "name": "stdin",
     "output_type": "stream",
     "text": [
      "Enter the number of elements in your list:\t 6\n"
     ]
    },
    {
     "name": "stdout",
     "output_type": "stream",
     "text": [
      "Enter your list with repeated values\n"
     ]
    },
    {
     "name": "stdin",
     "output_type": "stream",
     "text": [
      " 4\n",
      " 4\n",
      " 4\n",
      " 5\n",
      " 2\n",
      " 3\n"
     ]
    },
    {
     "name": "stdout",
     "output_type": "stream",
     "text": [
      "['4', '4', '4', '5', '2', '3']\n",
      "The new list is: ['3', '4', '2', '5']\n"
     ]
    }
   ],
   "source": [
    "num_of_elements = int(input(\"Enter the number of elements in your list:\\t\"))\n",
    "print(\"Enter your list with repeated values\")\n",
    "my_list = list()\n",
    "for i in range(num_of_elements):\n",
    "    my_list.append(input())\n",
    "print(my_list)\n",
    "my_new_list = list(set(my_list))\n",
    "print(\"The new list is:\", my_new_list)"
   ]
  },
  {
   "cell_type": "markdown",
   "metadata": {},
   "source": [
    "## Review\n",
    "\n",
    "Your approach using set(my_list) removes duplicates but does not specifically remove only the second occurrence—it removes all duplicates and changes the order.\n",
    "\n",
    "Issues in Your Code:\n",
    "Using set() removes all duplicates instead of just the second occurrence.\n",
    "\n",
    "set() does not preserve order, which can lead to an incorrect output.\n"
   ]
  },
  {
   "cell_type": "code",
   "execution_count": 9,
   "metadata": {},
   "outputs": [
    {
     "name": "stdin",
     "output_type": "stream",
     "text": [
      "Enter the number of elements in your list:\t 6\n"
     ]
    },
    {
     "name": "stdout",
     "output_type": "stream",
     "text": [
      "Enter your list with repeated values\n"
     ]
    },
    {
     "name": "stdin",
     "output_type": "stream",
     "text": [
      " 1\n",
      " 3\n",
      " 4\n",
      " 3\n",
      " 5\n",
      " 3\n",
      "Enter the value whose second occurrence should be removed:\t 3\n"
     ]
    },
    {
     "name": "stdout",
     "output_type": "stream",
     "text": [
      "The new list is: ['1', '3', '4', '5', '3']\n"
     ]
    }
   ],
   "source": [
    "# How I would Approach this\n",
    "\n",
    "num_of_elements = int(input(\"Enter the number of elements in your list:\\t\"))\n",
    "print(\"Enter your list with repeated values\")\n",
    "my_list = [input() for _ in range(num_of_elements)]\n",
    "\n",
    "value_to_remove = input(\"Enter the value whose second occurrence should be removed:\\t\")\n",
    "\n",
    "count = 0\n",
    "new_list = []\n",
    "\n",
    "for num in my_list:\n",
    "    if num == value_to_remove:\n",
    "        count += 1\n",
    "        if count == 2:\n",
    "            continue  # Skip the second occurrence\n",
    "    new_list.append(num)\n",
    "\n",
    "print(\"The new list is:\", new_list)\n"
   ]
  },
  {
   "cell_type": "code",
   "execution_count": null,
   "metadata": {},
   "outputs": [],
   "source": []
  },
  {
   "cell_type": "markdown",
   "metadata": {},
   "source": [
    "##### Write a program that takes two strings and checks if one string is a subsequence of the other. Example: \"abc\" is a subsequence of \"aabbcc\""
   ]
  },
  {
   "cell_type": "code",
   "execution_count": 10,
   "metadata": {},
   "outputs": [
    {
     "name": "stdin",
     "output_type": "stream",
     "text": [
      "Enter your first string:\t imagine\n",
      "Enter your second string:\t gin\n"
     ]
    },
    {
     "name": "stdout",
     "output_type": "stream",
     "text": [
      "gin is a subsequence of imagine\n"
     ]
    }
   ],
   "source": [
    "str1 = input(\"Enter your first string:\\t\")\n",
    "str2 = input(\"Enter your second string:\\t\")\n",
    "count = 0\n",
    "if len(str1) > len(str2):\n",
    "    for element in str2:\n",
    "        if element in str1:\n",
    "            count += 1\n",
    "    if count == len(str2):\n",
    "        print(str2, \"is a subsequence of\", str1)\n",
    "    else:\n",
    "        print(str2, \"is not a subsequence of\", str1)\n",
    "else:\n",
    "    for element in str1:\n",
    "        if element in str2:\n",
    "            count += 1\n",
    "    if count == len(str1):\n",
    "        print(str1, \"is a subsequence of\", str2)\n",
    "    else:\n",
    "        print(str1, \"is not a subsequence of\", str2)"
   ]
  },
  {
   "cell_type": "markdown",
   "metadata": {},
   "source": [
    "## Review\n",
    "\n",
    "Your approach incorrectly checks for character presence rather than maintaining sequence order.\n",
    "\n",
    "### Issues in Your Code:\n",
    "Checking only character presence (if element in str1) does not ensure the order is maintained.\n",
    "\n",
    "Using count == len(strX) does not confirm correct positioning of characters in sequence.\n"
   ]
  },
  {
   "cell_type": "code",
   "execution_count": null,
   "metadata": {},
   "outputs": [],
   "source": []
  },
  {
   "cell_type": "markdown",
   "metadata": {},
   "source": [
    "##### Write a program to check if a list is sorted in either ascending or descending order and return True if sorted"
   ]
  },
  {
   "cell_type": "code",
   "execution_count": null,
   "metadata": {},
   "outputs": [],
   "source": [
    "num_of_elements = int(input(\"Enter the number of elements in your list:\\t\"))\n",
    "type_of_list = int(input(\"Enter 1 for an integer list or 2 for character list:\\t\"))\n",
    "my_list = list()\n",
    "if type_of_list == 1:\n",
    "    print(\"Enter your list with elements of the same datatype\")\n",
    "    for i in range(num_of_elements):\n",
    "        my_list.append(int(input()))\n",
    "    print(my_list)\n",
    "    print(sorted(my_list) == my_list or sorted(my_list, reverse=True) == my_list)\n",
    "else:\n",
    "    print(\"Enter your list with elements of the same datatype\")\n",
    "    for i in range(num_of_elements):\n",
    "        my_list.append(input())\n",
    "    print(my_list)\n",
    "    print(sorted(my_list) == my_list or sorted(my_list, reverse=True) == my_list)"
   ]
  },
  {
   "cell_type": "markdown",
   "metadata": {},
   "source": [
    "## Review\n",
    "\n",
    "Your code is correct, but there's unnecessary repetition in handling integer and character lists separately. You can simplify it by treating all inputs as strings initially and converting them to integers only if needed.\n"
   ]
  },
  {
   "cell_type": "code",
   "execution_count": 11,
   "metadata": {},
   "outputs": [
    {
     "name": "stdin",
     "output_type": "stream",
     "text": [
      "Enter the number of elements in your list:\t 5\n",
      "Enter 1 for an integer list or 2 for a character list:\t 1\n"
     ]
    },
    {
     "name": "stdout",
     "output_type": "stream",
     "text": [
      "Enter your list with elements of the same datatype:\n"
     ]
    },
    {
     "name": "stdin",
     "output_type": "stream",
     "text": [
      " 3\n",
      " 4\n",
      " 3\n",
      " 2\n",
      " 7\n"
     ]
    },
    {
     "name": "stdout",
     "output_type": "stream",
     "text": [
      "Your list: [3, 4, 3, 2, 7]\n",
      "Is the list sorted? False\n"
     ]
    }
   ],
   "source": [
    "## You can do this \n",
    "\n",
    "num_of_elements = int(input(\"Enter the number of elements in your list:\\t\"))\n",
    "data_type = int(input(\"Enter 1 for an integer list or 2 for a character list:\\t\"))\n",
    "\n",
    "print(\"Enter your list with elements of the same datatype:\")\n",
    "my_list = [input() for _ in range(num_of_elements)]\n",
    "\n",
    "# Convert to integers if the user selected an integer list\n",
    "if data_type == 1:\n",
    "    my_list = list(map(int, my_list))\n",
    "\n",
    "print(\"Your list:\", my_list)\n",
    "is_sorted = my_list == sorted(my_list) or my_list == sorted(my_list, reverse=True)\n",
    "print(\"Is the list sorted?\", is_sorted)"
   ]
  },
  {
   "cell_type": "code",
   "execution_count": null,
   "metadata": {},
   "outputs": [],
   "source": []
  },
  {
   "cell_type": "markdown",
   "metadata": {},
   "source": [
    "##### Create a program that takes two sets of strings and determines if the sets are disjoint (i.e., have no common elements)"
   ]
  },
  {
   "cell_type": "code",
   "execution_count": null,
   "metadata": {},
   "outputs": [],
   "source": [
    "set1 = set()\n",
    "set2 = set()\n",
    "num_of_items1 = int(input(\"Enter the number of items in first set:\\t\"))\n",
    "print(\"Enter the elements of the first set\")\n",
    "for i in range(num_of_items1):\n",
    "    set1.add(input())\n",
    "print(\"Set1 is:\", set1)\n",
    "num_of_items2 = int(input(\"Enter the number of items in second set:\\t\"))\n",
    "print(\"Enter the elements of the first set\")\n",
    "for i in range(num_of_items2):\n",
    "    set2.add(input())\n",
    "print(\"Set2 is:\", set2)\n",
    "if set1.intersection(set2) == set():\n",
    "    print(\"Set1 and Set2 have no common elements.\")\n",
    "else:\n",
    "    print(\"Set1 and Set2 are not disjoint.\\nTheir common elements are:\", set1.intersection(set2))"
   ]
  },
  {
   "cell_type": "markdown",
   "metadata": {},
   "source": [
    "## Review\n",
    "\n",
    "Your code is correct but can be slightly improved for clarity and efficiency.\n",
    "\n",
    "### Issues & Improvements:\n",
    "\n",
    "Redundant check: set1.intersection(set2) == set() can be replaced with set1.isdisjoint(set2), which is more efficient.\n",
    "\n",
    "Minor repetition: The prompt for the second set incorrectly says \"Enter the elements of the first set\" instead of \"Enter the elements of the second set\".\n",
    "\n",
    "More concise approach: Using isdisjoint() directly improves readability."
   ]
  },
  {
   "cell_type": "code",
   "execution_count": null,
   "metadata": {},
   "outputs": [],
   "source": []
  }
 ],
 "metadata": {
  "kernelspec": {
   "display_name": "Python 3 (ipykernel)",
   "language": "python",
   "name": "python3"
  },
  "language_info": {
   "codemirror_mode": {
    "name": "ipython",
    "version": 3
   },
   "file_extension": ".py",
   "mimetype": "text/x-python",
   "name": "python",
   "nbconvert_exporter": "python",
   "pygments_lexer": "ipython3",
   "version": "3.12.7"
  }
 },
 "nbformat": 4,
 "nbformat_minor": 4
}
