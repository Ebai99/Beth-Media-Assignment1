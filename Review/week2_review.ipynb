{
 "cells": [
  {
   "cell_type": "markdown",
   "metadata": {},
   "source": [
    "### 1. Advanced Grade Checker\n",
    "##### Enhance the grade checker program to handle invalid scores:\n",
    "##### If the score is less than 0 or greater than 100, print \"Invalid score.\""
   ]
  },
  {
   "cell_type": "code",
   "execution_count": null,
   "metadata": {},
   "outputs": [],
   "source": [
    "score = int(input(\"Enter a score:\\t\"))\n",
    "if score in range(0, 101):\n",
    "    if score in range(90, 101):\n",
    "        Grade = 'A'\n",
    "    elif score in range(80, 90): \n",
    "        Grade = 'B'\n",
    "    elif score in range(70, 80):\n",
    "        Grade = 'C'\n",
    "    elif score in range(60, 70):\n",
    "        Grade = 'D'\n",
    "    else:\n",
    "        Grade ='F'\n",
    "    print(\"Your grade is\", Grade)\n",
    "else:\n",
    "    print(\"Invalid Score!\")"
   ]
  },
  {
   "cell_type": "markdown",
   "metadata": {},
   "source": [
    "## Review\n",
    "\n",
    "Your code is almost perfect! The logic for checking grades is accurate, and you're already handling invalid scores well with an else statement. However, you can make a small improvement to avoid using multiple range() calls and enhance readability.\n"
   ]
  },
  {
   "cell_type": "code",
   "execution_count": 1,
   "metadata": {},
   "outputs": [
    {
     "name": "stdin",
     "output_type": "stream",
     "text": [
      "Enter a score:\t 34\n"
     ]
    },
    {
     "name": "stdout",
     "output_type": "stream",
     "text": [
      "Your grade is F\n"
     ]
    }
   ],
   "source": [
    "# improved code\n",
    "\n",
    "score = int(input(\"Enter a score:\\t\"))\n",
    "\n",
    "if 0 <= score <= 100:  # Check if score is within the valid range\n",
    "    if score >= 90:\n",
    "        Grade = 'A'\n",
    "    elif score >= 80:\n",
    "        Grade = 'B'\n",
    "    elif score >= 70:\n",
    "        Grade = 'C'\n",
    "    elif score >= 60:\n",
    "        Grade = 'D'\n",
    "    else:\n",
    "        Grade = 'F'\n",
    "    print(\"Your grade is\", Grade)\n",
    "else:\n",
    "    print(\"Invalid score.\")\n"
   ]
  },
  {
   "cell_type": "code",
   "execution_count": null,
   "metadata": {},
   "outputs": [],
   "source": []
  },
  {
   "cell_type": "markdown",
   "metadata": {},
   "source": [
    "### 2. Simple Guessing Game\n",
    "##### Write a Python program that simulates a simple guessing game:\n",
    "##### Use a while loop to ask the user to guess a number between 1 and 20.\n",
    "##### If the guess is correct, print “Congratulations! You guessed it!” and exit the loop.\n",
    "##### If the guess is too high or too low, provide feedback and let them guess again.\n",
    "##### The program should stop after 5 incorrect attempts and print “Game Over.”\n",
    "##### Improve the guessing game to:\n",
    "##### Include a scoring system where closer guesses receive fewer penalty points. Display the final score when the game ends."
   ]
  },
  {
   "cell_type": "code",
   "execution_count": null,
   "metadata": {},
   "outputs": [],
   "source": [
    "import random\n",
    "\n",
    "penalty_points = 1000\n",
    "number = random.randint(1, 20)\n",
    "print(\"\\nGuess the number between 1 and 20\\t\\t Initial points = \", penalty_points)\n",
    "counter = 1\n",
    "while counter <= 5:\n",
    "    guess = int(input())\n",
    "    if guess == number:\n",
    "        print(\"Congratulations! You guessed it!\\n\")\n",
    "        break;\n",
    "    else:\n",
    "        if guess > number:\n",
    "            print(\"Your guess is greater than the number\\n\")\n",
    "        else:\n",
    "            print(\"Your guess is lower than the number\\n\")\n",
    "        penalty_points = penalty_points - (abs(guess - number) * 10)\n",
    "        if counter != 5:\n",
    "            print(\"Enter another guess\")\n",
    "    counter += 1\n",
    "if counter > 5:\n",
    "    print(\"You are out of moves! GAME OVER!\\n\")\n",
    "print(\"Your points left are:\\t\", penalty_points)"
   ]
  },
  {
   "cell_type": "markdown",
   "metadata": {},
   "source": [
    "## Review \n",
    "Your code is functional but can be improved for clarity, especially around the points system and ensuring that the output is more readable. Here are a few things to enhance:\n",
    "\n",
    "Prevent printing penalty points when no guess is made: Your penalty points will decrement even when a player doesn't make a valid guess.\n",
    "Introduce clearer feedback: Provide better guidance when the user guesses wrong, and ensure the game flow feels smoother.\n",
    "Refine scoring system: Use the number of remaining attempts to scale penalty points more intuitively.\n"
   ]
  },
  {
   "cell_type": "code",
   "execution_count": null,
   "metadata": {},
   "outputs": [],
   "source": []
  },
  {
   "cell_type": "markdown",
   "metadata": {},
   "source": [
    "### 3. Sum of Digits\n",
    "##### Write a Python program to calculate the sum of the digits of a given number:\n",
    "##### Input Example: 1234\n",
    "##### Output Example: \"The sum of digits is 10.\""
   ]
  },
  {
   "cell_type": "code",
   "execution_count": null,
   "metadata": {},
   "outputs": [],
   "source": [
    "num = input(\"Enter your positive integer:\\t\")\n",
    "sum = 0\n",
    "for i in range(len(num)):\n",
    "    sum = int(num[i]) + sum\n",
    "print(\"The sum of digits is\", sum)"
   ]
  },
  {
   "cell_type": "markdown",
   "metadata": {},
   "source": [
    "## Review\n",
    "\n",
    "Your program works fine, but there are some improvements that can make the code more efficient\n",
    "\n",
    "Improvements:\n",
    "\n",
    "You can avoid converting the string to a number at each iteration by directly iterating over the string and converting each character to an integer.\n",
    "\n",
    "It’s best to avoid using sum as a variable name since it shadows the built-in sum() function in Python.\n",
    "\n",
    "You can use the sum() function in Python for more concise code."
   ]
  },
  {
   "cell_type": "code",
   "execution_count": null,
   "metadata": {},
   "outputs": [],
   "source": []
  },
  {
   "cell_type": "markdown",
   "metadata": {},
   "source": [
    "### 4. Prime Numbers in Range\n",
    "##### Write a program that finds and prints all prime numbers between 1 and 100."
   ]
  },
  {
   "cell_type": "code",
   "execution_count": 2,
   "metadata": {},
   "outputs": [
    {
     "name": "stdout",
     "output_type": "stream",
     "text": [
      "2 3 5 7 11 13 17 19 23 29 31 37 41 43 47 53 59 61 67 71 73 79 83 89 97 "
     ]
    }
   ],
   "source": [
    "number_of_factors = 0\n",
    "for i in range(1, 100):\n",
    "    for j in range(1, i):\n",
    "        if i % j == 0:\n",
    "            number_of_factors += 1\n",
    "        if number_of_factors > 1:\n",
    "            break;\n",
    "    if number_of_factors == 1:\n",
    "        print(i, end=\" \")\n",
    "    number_of_factors = 0"
   ]
  },
  {
   "cell_type": "markdown",
   "metadata": {},
   "source": [
    "## Review\n",
    "Your program attempts to find prime numbers between 1 and 100, but there is an issue in how you're counting factors and resetting the number_of_factors variable.\n",
    "\n",
    "Key Issues:\n",
    "\n",
    "Incorrect reset of number_of_factors: In your code, number_of_factors is reset outside the inner loop, causing the count of factors to be accumulated incorrectly across different values of i.\n",
    "\n",
    "Breaking too early: You break the inner loop as soon as the number of factors exceeds 1. This is correct, but the outer loop should ensure that you only check for primes once all factors are counted properly."
   ]
  },
  {
   "cell_type": "code",
   "execution_count": 3,
   "metadata": {},
   "outputs": [
    {
     "name": "stdout",
     "output_type": "stream",
     "text": [
      "2 3 5 7 11 13 17 19 23 29 31 37 41 43 47 53 59 61 67 71 73 79 83 89 97 "
     ]
    }
   ],
   "source": [
    "## improved code\n",
    "\n",
    "for i in range(2, 101):  # Start from 2 as 1 is not prime\n",
    "    number_of_factors = 0  # Reset factor count for each number\n",
    "    for j in range(1, i):\n",
    "        if i % j == 0:\n",
    "            number_of_factors += 1\n",
    "        if number_of_factors > 1:\n",
    "            break\n",
    "    if number_of_factors == 1:  # Only prime numbers have exactly 2 factors (1 and themselves)\n",
    "        print(i, end=\" \")\n"
   ]
  },
  {
   "cell_type": "code",
   "execution_count": null,
   "metadata": {},
   "outputs": [],
   "source": []
  },
  {
   "cell_type": "markdown",
   "metadata": {},
   "source": [
    "### 5. Advanced Countdown Timer\n",
    "##### Modify the countdown timer program to include:\n",
    "##### A delay of 1 second between each number (use time.sleep(1)). A custom message at the end, like \"Time's up!\""
   ]
  },
  {
   "cell_type": "code",
   "execution_count": null,
   "metadata": {},
   "outputs": [],
   "source": [
    "import time\n",
    "\n",
    "time_counter = int(input(\"Enter you time counter:\\t\"))\n",
    "while time_counter >= 0:\n",
    "    time.sleep(1)\n",
    "    print(time_counter, end=\" \")\n",
    "    time_counter -= 1\n",
    "print(\"\\nTime's up!\")"
   ]
  },
  {
   "cell_type": "markdown",
   "metadata": {},
   "source": [
    "## Review\n",
    "\n",
    "Your program looks great! You've implemented the countdown timer with the correct structure and logic."
   ]
  },
  {
   "cell_type": "code",
   "execution_count": null,
   "metadata": {},
   "outputs": [],
   "source": []
  },
  {
   "cell_type": "markdown",
   "metadata": {},
   "source": [
    "### 5. Number Triangle\n",
    "##### Create a program that uses nested loops to print a triangle:"
   ]
  },
  {
   "cell_type": "code",
   "execution_count": 4,
   "metadata": {},
   "outputs": [
    {
     "name": "stdin",
     "output_type": "stream",
     "text": [
      "Enter the height of your triangle:\t 7\n"
     ]
    },
    {
     "name": "stdout",
     "output_type": "stream",
     "text": [
      "1 \n",
      "\n",
      "1 2 \n",
      "\n",
      "1 2 3 \n",
      "\n",
      "1 2 3 4 \n",
      "\n",
      "1 2 3 4 5 \n",
      "\n",
      "1 2 3 4 5 6 \n",
      "\n",
      "1 2 3 4 5 6 7 \n",
      "\n"
     ]
    }
   ],
   "source": [
    "height = int(input(\"Enter the height of your triangle:\\t\"))\n",
    "for i in range(1, height+1):\n",
    "    for j in range(1, i+1):\n",
    "        print(j, end=\" \")\n",
    "    print(\"\\n\") "
   ]
  },
  {
   "cell_type": "markdown",
   "metadata": {},
   "source": [
    "## Review \n",
    "\n",
    "Your code looks great! It correctly uses nested loops to print a triangle of numbers based on the user-provided height.\n"
   ]
  },
  {
   "cell_type": "code",
   "execution_count": null,
   "metadata": {},
   "outputs": [],
   "source": []
  }
 ],
 "metadata": {
  "kernelspec": {
   "display_name": "Python 3 (ipykernel)",
   "language": "python",
   "name": "python3"
  },
  "language_info": {
   "codemirror_mode": {
    "name": "ipython",
    "version": 3
   },
   "file_extension": ".py",
   "mimetype": "text/x-python",
   "name": "python",
   "nbconvert_exporter": "python",
   "pygments_lexer": "ipython3",
   "version": "3.12.7"
  }
 },
 "nbformat": 4,
 "nbformat_minor": 4
}
