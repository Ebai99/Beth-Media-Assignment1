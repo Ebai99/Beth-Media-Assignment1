{
 "cells": [
  {
   "cell_type": "markdown",
   "metadata": {},
   "source": [
    "### 1. Advanced Grade Checker\n",
    "##### Enhance the grade checker program to handle invalid scores:\n",
    "##### If the score is less than 0 or greater than 100, print \"Invalid score.\""
   ]
  },
  {
   "cell_type": "code",
   "execution_count": null,
   "metadata": {},
   "outputs": [],
   "source": [
    "score = int(input(\"Enter a score:\\t\"))\n",
    "\n",
    "if 0 <= score <= 100:  # Check if score is within the valid range\n",
    "    if score >= 90:\n",
    "        Grade = 'A'\n",
    "    elif score >= 80:\n",
    "        Grade = 'B'\n",
    "    elif score >= 70:\n",
    "        Grade = 'C'\n",
    "    elif score >= 60:\n",
    "        Grade = 'D'\n",
    "    else:\n",
    "        Grade = 'F'\n",
    "    print(\"Your grade is\", Grade)\n",
    "else:\n",
    "    print(\"Invalid score.\")"
   ]
  },
  {
   "cell_type": "markdown",
   "metadata": {},
   "source": [
    "### 2. Simple Guessing Game\n",
    "##### Write a Python program that simulates a simple guessing game:\n",
    "##### Use a while loop to ask the user to guess a number between 1 and 20.\n",
    "##### If the guess is correct, print “Congratulations! You guessed it!” and exit the loop.\n",
    "##### If the guess is too high or too low, provide feedback and let them guess again.\n",
    "##### The program should stop after 5 incorrect attempts and print “Game Over.”\n",
    "##### Improve the guessing game to:\n",
    "##### Include a scoring system where closer guesses receive fewer penalty points. Display the final score when the game ends."
   ]
  },
  {
   "cell_type": "code",
   "execution_count": null,
   "metadata": {},
   "outputs": [],
   "source": [
    "import random\n",
    "\n",
    "penalty_points = 1000\n",
    "number = random.randint(1, 20)\n",
    "print(\"\\nGuess the number between 1 and 20\\t\\t Initial points = \", penalty_points)\n",
    "counter = 1\n",
    "while counter <= 5:\n",
    "    guess = int(input())\n",
    "    if guess == number:\n",
    "        print(\"Congratulations! You guessed it!\\n\")\n",
    "        break;\n",
    "    else:\n",
    "        if guess > number:\n",
    "            print(\"Your guess is greater than the number\\n\")\n",
    "        else:\n",
    "            print(\"Your guess is lower than the number\\n\")\n",
    "        penalty_points = penalty_points - (abs(guess - number) * 10)\n",
    "        if counter != 5:\n",
    "            print(\"Enter another guess\")\n",
    "    counter += 1\n",
    "if counter > 5:\n",
    "    print(\"You are out of moves! GAME OVER!\\n\")\n",
    "print(\"Your points left are:\\t\", penalty_points)"
   ]
  },
  {
   "cell_type": "markdown",
   "metadata": {},
   "source": [
    "### 3. Sum of Digits\n",
    "##### Write a Python program to calculate the sum of the digits of a given number:\n",
    "##### Input Example: 1234\n",
    "##### Output Example: \"The sum of digits is 10.\""
   ]
  },
  {
   "cell_type": "code",
   "execution_count": null,
   "metadata": {},
   "outputs": [],
   "source": [
    "num = input(\"Enter your positive integer:\\t\")\n",
    "result = 0\n",
    "for i in range(len(num)):\n",
    "    result = int(num[i]) + result\n",
    "print(\"The sum of digits is\", result)"
   ]
  },
  {
   "cell_type": "markdown",
   "metadata": {},
   "source": [
    "### 4. Prime Numbers in Range\n",
    "##### Write a program that finds and prints all prime numbers between 1 and 100."
   ]
  },
  {
   "cell_type": "code",
   "execution_count": null,
   "metadata": {},
   "outputs": [],
   "source": [
    "for i in range(2, 101):  # Start from 2 as 1 is not prime\n",
    "    number_of_factors = 0  # Reset factor count for each number\n",
    "    for j in range(1, i):\n",
    "        if i % j == 0:\n",
    "            number_of_factors += 1\n",
    "        if number_of_factors > 1:\n",
    "            break\n",
    "    if number_of_factors == 1:  # Only prime numbers have exactly 2 factors (1 and themselves)\n",
    "        print(i, end=\" \")"
   ]
  },
  {
   "cell_type": "markdown",
   "metadata": {},
   "source": [
    "### 5. Advanced Countdown Timer\n",
    "##### Modify the countdown timer program to include:\n",
    "##### A delay of 1 second between each number (use time.sleep(1)). A custom message at the end, like \"Time's up!\""
   ]
  },
  {
   "cell_type": "code",
   "execution_count": null,
   "metadata": {},
   "outputs": [],
   "source": [
    "import time\n",
    "\n",
    "time_counter = int(input(\"Enter you time counter:\\t\"))\n",
    "while time_counter >= 0:\n",
    "    time.sleep(1)\n",
    "    print(time_counter, end=\" \")\n",
    "    time_counter -= 1\n",
    "print(\"\\nTime's up!\")"
   ]
  },
  {
   "cell_type": "markdown",
   "metadata": {},
   "source": [
    "### 5. Number Triangle\n",
    "##### Create a program that uses nested loops to print a triangle:"
   ]
  },
  {
   "cell_type": "code",
   "execution_count": null,
   "metadata": {},
   "outputs": [],
   "source": [
    "height = int(input(\"Enter the height of your triangle:\\t\"))\n",
    "for i in range(1, height+1):\n",
    "    for j in range(1, i+1):\n",
    "        print(j, end=\" \")\n",
    "    print(\"\\n\") "
   ]
  }
 ],
 "metadata": {
  "kernelspec": {
   "display_name": ".venv",
   "language": "python",
   "name": "python3"
  },
  "language_info": {
   "codemirror_mode": {
    "name": "ipython",
    "version": 3
   },
   "file_extension": ".py",
   "mimetype": "text/x-python",
   "name": "python",
   "nbconvert_exporter": "python",
   "pygments_lexer": "ipython3",
   "version": "3.13.1"
  }
 },
 "nbformat": 4,
 "nbformat_minor": 2
}
