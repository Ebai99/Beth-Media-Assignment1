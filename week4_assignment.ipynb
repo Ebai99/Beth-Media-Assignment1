{
 "cells": [
  {
   "cell_type": "markdown",
   "metadata": {},
   "source": [
    "# Build-in Functions\n",
    "## Intermediate Level"
   ]
  },
  {
   "cell_type": "markdown",
   "metadata": {},
   "source": [
    "##### Sort the list [10, 5, 8, 3] in ascending and descending order using a built-in function."
   ]
  },
  {
   "cell_type": "code",
   "execution_count": null,
   "metadata": {},
   "outputs": [],
   "source": [
    "numbers = [10, 5, 8, 3]\n",
    "print(sorted(numbers))\n",
    "print(sorted(numbers, reverse=True))"
   ]
  },
  {
   "cell_type": "markdown",
   "metadata": {},
   "source": [
    "##### Write a program that accepts a list of numbers and filters out the odd numbers using the filter() function."
   ]
  },
  {
   "cell_type": "code",
   "execution_count": null,
   "metadata": {},
   "outputs": [],
   "source": [
    "numbers = []\n",
    "length_numbers = int(input(\"Enter the number of elements of your list: \"))\n",
    "print(\"Enter the elements of your list\\n\")\n",
    "for i in range(length_numbers):\n",
    "    element = int(input())\n",
    "    numbers.append(element)\n",
    "print(f\"Your list is {numbers}\")\n",
    "odds = filter(lambda x : x%2 == 1, numbers)\n",
    "print(f\"The odd numbers of your list are {list(odds)}\")"
   ]
  },
  {
   "cell_type": "markdown",
   "metadata": {},
   "source": [
    "##### Use the zip() function to merge two lists: ['John', 'Jane'] and [80, 90]."
   ]
  },
  {
   "cell_type": "code",
   "execution_count": null,
   "metadata": {},
   "outputs": [],
   "source": [
    "names = [\"John\", \"Jane\"]\n",
    "ages = [80, 90]\n",
    "combine = zip(names, ages)\n",
    "print(list(combine))"
   ]
  },
  {
   "cell_type": "markdown",
   "metadata": {},
   "source": [
    "##### Write a program that rounds a floating-point number (e.g., 3.7654) to 2 decimal places using a built-in function."
   ]
  },
  {
   "cell_type": "code",
   "execution_count": null,
   "metadata": {},
   "outputs": [],
   "source": [
    "n = float(input(\"Enter your decimal number:\\t\"))\n",
    "n = round(n, 2)\n",
    "print(f\"Your number to 2 decimal places is: {n}\")"
   ]
  },
  {
   "cell_type": "markdown",
   "metadata": {},
   "source": [
    "##### Write a program that maps a function to square each number in the list [2, 4, 6, 8]."
   ]
  },
  {
   "cell_type": "code",
   "execution_count": null,
   "metadata": {},
   "outputs": [],
   "source": [
    "numbers = [2, 4, 6, 8]\n",
    "squares = map(lambda x : x**2, numbers)\n",
    "print(f\"The square of the numbers in the list are {list(squares)}\")"
   ]
  },
  {
   "cell_type": "markdown",
   "metadata": {},
   "source": [
    "## Advanced Level"
   ]
  },
  {
   "cell_type": "markdown",
   "metadata": {},
   "source": [
    "##### Write a program to evaluate a mathematical expression entered by the user using eval()."
   ]
  },
  {
   "cell_type": "code",
   "execution_count": null,
   "metadata": {},
   "outputs": [],
   "source": [
    "expression = input(\"Enter your mathematical expression:\\t\")\n",
    "result = eval(expression)\n",
    "print(f\"Your result is {result}\")"
   ]
  },
  {
   "cell_type": "markdown",
   "metadata": {},
   "source": [
    "##### Create a program that combines two lists (e.g., names and marks) into a dictionary using the zip() function."
   ]
  },
  {
   "cell_type": "code",
   "execution_count": null,
   "metadata": {},
   "outputs": [],
   "source": [
    "names = ['John', 'Bob', 'Baron', 'Tracy', 'Esther']\n",
    "marks = [70, 65, 95, 85, 80]\n",
    "\n",
    "combine = zip(names, marks)\n",
    "print(dict(combine))"
   ]
  },
  {
   "cell_type": "markdown",
   "metadata": {},
   "source": [
    "#####  Write a program that generates the Fibonacci sequence up to 10 terms using range() and list()."
   ]
  },
  {
   "cell_type": "code",
   "execution_count": null,
   "metadata": {},
   "outputs": [],
   "source": [
    "fib = []\n",
    "i, j = 0, 1\n",
    "for k in range(1, 11):\n",
    "    if k == 1:\n",
    "        fib.append(i)\n",
    "    elif k == 2:\n",
    "        fib.append(j)\n",
    "    else:\n",
    "        fib.append(i+j)\n",
    "        i, j = j, i+j\n",
    "print(fib)"
   ]
  },
  {
   "cell_type": "markdown",
   "metadata": {},
   "source": [
    "##### Use the map() function to apply a function that capitalizes each string in ['python', 'java', 'c++']."
   ]
  },
  {
   "cell_type": "code",
   "execution_count": null,
   "metadata": {},
   "outputs": [],
   "source": [
    "languages = ['python', 'java', 'c++']\n",
    "capitalize_languages = map(lambda langauge : langauge.capitalize(), languages)\n",
    "print(list(capitalize_languages))"
   ]
  },
  {
   "cell_type": "markdown",
   "metadata": {},
   "source": [
    "##### Write a program to filter out words shorter than 4 letters from the list ['cat', 'dog', 'elephant', 'tiger'] using filter()."
   ]
  },
  {
   "cell_type": "code",
   "execution_count": null,
   "metadata": {},
   "outputs": [],
   "source": [
    "animals = ['cat', 'dog', 'elephant', 'tiger']\n",
    "short_words = filter(lambda animal : len(animal) < 4, animals)\n",
    "print(list(short_words))"
   ]
  }
 ],
 "metadata": {
  "kernelspec": {
   "display_name": ".venv",
   "language": "python",
   "name": "python3"
  },
  "language_info": {
   "codemirror_mode": {
    "name": "ipython",
    "version": 3
   },
   "file_extension": ".py",
   "mimetype": "text/x-python",
   "name": "python",
   "nbconvert_exporter": "python",
   "pygments_lexer": "ipython3",
   "version": "3.13.1"
  }
 },
 "nbformat": 4,
 "nbformat_minor": 2
}
