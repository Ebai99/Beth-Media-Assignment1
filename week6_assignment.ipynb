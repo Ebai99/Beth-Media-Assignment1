{
 "cells": [
  {
   "cell_type": "markdown",
   "metadata": {},
   "source": [
    "# Python Classes\n",
    "## Beginner Level"
   ]
  },
  {
   "cell_type": "markdown",
   "metadata": {},
   "source": [
    "##### Define a class called Person with attributes name and age. Create an instance and print the details."
   ]
  },
  {
   "cell_type": "code",
   "execution_count": null,
   "metadata": {},
   "outputs": [],
   "source": [
    "class Person:\n",
    "    def __init__(self, name, age):\n",
    "        self.name = name\n",
    "        self.age = age\n",
    "\n",
    "person1 = Person('John', 25)\n",
    "print(f\"Your name is {person1.name}, and you are {person1.age} years old.\")"
   ]
  },
  {
   "cell_type": "markdown",
   "metadata": {},
   "source": [
    "##### Create a class Rectangle with attributes length and width and a method to calculate area."
   ]
  },
  {
   "cell_type": "code",
   "execution_count": null,
   "metadata": {},
   "outputs": [],
   "source": [
    "class Rectangle:\n",
    "    def __init__(self, length, width):\n",
    "        self.length = length\n",
    "        self.width = width\n",
    "\n",
    "    def area(self):\n",
    "        return self.length * self.width\n",
    "    \n",
    "rectangle1 = Rectangle(5, 3)\n",
    "print(rectangle1.area())"
   ]
  },
  {
   "cell_type": "markdown",
   "metadata": {},
   "source": [
    "##### Define a class Student with name and marks. Create multiple instances and display their details."
   ]
  },
  {
   "cell_type": "code",
   "execution_count": null,
   "metadata": {},
   "outputs": [],
   "source": [
    "class Student:\n",
    "    def __init__(self, name, marks):\n",
    "        self.name = name\n",
    "        self.marks = marks\n",
    "\n",
    "student1 = Student('John', 65)\n",
    "student2 = Student('Peter', 75)\n",
    "student3 = Student('Paul', 80)\n",
    "\n",
    "print(f\"{student1.name} scored {student1.marks}\")\n",
    "print(f\"{student2.name} scored {student2.marks}\")\n",
    "print(f\"{student3.name} scored {student3.marks}\")"
   ]
  },
  {
   "cell_type": "markdown",
   "metadata": {},
   "source": [
    "##### Write a class Book with attributes title and author. Add a method to display details."
   ]
  },
  {
   "cell_type": "code",
   "execution_count": null,
   "metadata": {},
   "outputs": [],
   "source": [
    "class Book:\n",
    "    def __init__(self, title, author):\n",
    "        self.title = title\n",
    "        self.author = author\n",
    "    \n",
    "    def about(self):\n",
    "        print(f\"The title of your book is '{self.title}', and the author is {self.author}.\")\n",
    "\n",
    "title = \"The Amazing Son In-law\"\n",
    "author = \"Lord Leaf\"\n",
    "book1 = Book(title, author)\n",
    "book1.about()"
   ]
  },
  {
   "cell_type": "markdown",
   "metadata": {},
   "source": [
    "##### Create a Laptop class with attributes brand, processor, and RAM. Write a method to print specifications."
   ]
  },
  {
   "cell_type": "code",
   "execution_count": null,
   "metadata": {},
   "outputs": [],
   "source": [
    "class Laptop:\n",
    "    def __init__(self, brand, processor, RAM):\n",
    "        self.brand = brand\n",
    "        self.processor = processor\n",
    "        self.RAM = RAM\n",
    "\n",
    "    def properties(self):\n",
    "        print(f\"Brand: {self.brand}\")\n",
    "        print(f\"Processor: {self.processor}GHz\")\n",
    "        print(f\"RAM: {self.RAM}Gb\")\n",
    "\n",
    "MyComputer = Laptop(\"Lenovo Thinkpad\", 1.9, 8)\n",
    "MyComputer.properties()"
   ]
  },
  {
   "cell_type": "markdown",
   "metadata": {},
   "source": [
    "## Intermediate Level"
   ]
  },
  {
   "cell_type": "markdown",
   "metadata": {},
   "source": [
    "##### Create a BankAccount class with deposit and withdrawal methods and a private balance attribute."
   ]
  },
  {
   "cell_type": "code",
   "execution_count": null,
   "metadata": {},
   "outputs": [],
   "source": [
    "class BankAccount:\n",
    "    def __init__(self, private_balance):\n",
    "        self.private_balance = private_balance\n",
    "            \n",
    "    def deposit(self, amount):\n",
    "        self.private_balance += amount\n",
    "        return self.private_balance\n",
    "    \n",
    "    def withdrawal(self, amount):\n",
    "        self.private_balance -= amount\n",
    "        return self.private_balance\n",
    "    \n",
    "Account1 = BankAccount(5000)\n",
    "\n",
    "print(f\"Your new balance after your deposit is {Account1.deposit(10000)}\")\n",
    "print(f\"Your new balance after your withdrawal is {Account1.withdrawal(3000)}\")"
   ]
  },
  {
   "cell_type": "markdown",
   "metadata": {},
   "source": [
    "##### Write a Shape class with a method area(). Derive Circle and Rectangle classes and override the method."
   ]
  },
  {
   "cell_type": "code",
   "execution_count": null,
   "metadata": {},
   "outputs": [],
   "source": [
    "class Shape:\n",
    "    def __init__(self):\n",
    "        pass\n",
    "    def area(self):\n",
    "        pass\n",
    "\n",
    "class Circle(Shape):\n",
    "    def __init__(self, radius):\n",
    "        self.radius = radius\n",
    "    def area(self):\n",
    "        return 3.14 * self.radius * self.radius\n",
    "\n",
    "class Rectangle(Shape):\n",
    "    def __init__(self, length, width):\n",
    "        self.length = length\n",
    "        self.width = width\n",
    "    def area(self):\n",
    "        return self.length * self.width\n",
    "    \n",
    "circle1 = Circle(2)\n",
    "rectangle1 = Rectangle(5, 2)\n",
    "print(\"The area of our rectangle is: \", rectangle1.area())\n",
    "print(\"The area of our circle is: \", circle1.area())\n"
   ]
  },
  {
   "cell_type": "markdown",
   "metadata": {},
   "source": [
    "##### Define a Vehicle class. Inherit Car and Bike from it and add specific attributes to each."
   ]
  },
  {
   "cell_type": "code",
   "execution_count": null,
   "metadata": {},
   "outputs": [],
   "source": [
    "class Vehicle:\n",
    "    def __init__(self, brand, model, year):\n",
    "        self.brand = brand\n",
    "        self.model = model\n",
    "        self.year = year\n",
    "    \n",
    "class Car(Vehicle):\n",
    "    def __init__(self, brand, model, year, horse_power, license_number):\n",
    "        super().__init__(brand, model, year)\n",
    "        self.horse_power = horse_power\n",
    "        self.license_number = license_number\n",
    "\n",
    "class Bike(Vehicle):\n",
    "    def __init__(self, brand, model, year, color):\n",
    "        super().__init__(brand, model, year)\n",
    "        self.color = color\n",
    "\n",
    "bike1 = Bike('BMW', '78BMX', 2021, 'blue')\n",
    "print(bike1.model)"
   ]
  },
  {
   "cell_type": "markdown",
   "metadata": {},
   "source": [
    "##### Implement a ShoppingCart class with methods to add and remove items."
   ]
  },
  {
   "cell_type": "code",
   "execution_count": null,
   "metadata": {},
   "outputs": [],
   "source": [
    "class ShoppingCart:\n",
    "    def __init__(self):\n",
    "        self.cart = set()\n",
    "    def add_item(self, item):\n",
    "        self.cart.add(item)\n",
    "    def remove_item(self, item):\n",
    "        if item not in self.cart:\n",
    "            print(f\"'{item}' not in your cart!\")\n",
    "        else:\n",
    "            self.cart.remove(item)\n",
    "\n",
    "MyShopping = ShoppingCart()\n",
    "MyShopping.add_item(\"books\")\n",
    "MyShopping.add_item(\"pens\")\n",
    "MyShopping.add_item(\"shoes\")\n",
    "MyShopping.remove_item(\"books\")\n",
    "print(MyShopping.cart)"
   ]
  },
  {
   "cell_type": "markdown",
   "metadata": {},
   "source": [
    "##### Create a class Employee with methods for salary calculations based on experience level."
   ]
  },
  {
   "cell_type": "code",
   "execution_count": null,
   "metadata": {},
   "outputs": [],
   "source": [
    "class Employee:\n",
    "    def __init__(self, experience_level):\n",
    "        self.level = experience_level.lower()\n",
    "        # Experience levels are senior, mid and junior\n",
    "    def salary(self):\n",
    "        if self.level == 'senior':\n",
    "            amount = 500000\n",
    "        if self.level == 'mid':\n",
    "            amount = 300000\n",
    "        if self.level == 'junior':\n",
    "            amount = 150000\n",
    "        return amount\n",
    "\n",
    "John = Employee('junior')\n",
    "print(John.salary())"
   ]
  }
 ],
 "metadata": {
  "kernelspec": {
   "display_name": ".venv",
   "language": "python",
   "name": "python3"
  },
  "language_info": {
   "codemirror_mode": {
    "name": "ipython",
    "version": 3
   },
   "file_extension": ".py",
   "mimetype": "text/x-python",
   "name": "python",
   "nbconvert_exporter": "python",
   "pygments_lexer": "ipython3",
   "version": "3.13.1"
  }
 },
 "nbformat": 4,
 "nbformat_minor": 2
}
